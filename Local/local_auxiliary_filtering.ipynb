{
 "cells": [
  {
   "cell_type": "code",
   "execution_count": 1,
   "id": "bf70ba7a",
   "metadata": {},
   "outputs": [],
   "source": [
    "import numpy as np\n",
    "from scipy.stats import norm\n",
    "import pandas as pd"
   ]
  },
  {
   "cell_type": "code",
   "execution_count": 2,
   "id": "b8cf73b7",
   "metadata": {},
   "outputs": [],
   "source": [
    "import math"
   ]
  },
  {
   "cell_type": "code",
   "execution_count": 3,
   "id": "ad72b736",
   "metadata": {},
   "outputs": [],
   "source": [
    "Nile = [1120,1160,963,1210,1160,1160,813,1230,1370,1140,995,935,1110,994,1020,960,1180,799,958,1140,1100,1210,1150,\n",
    "       1250,1260,1220,1030,1100,774,840,874,694,940,833,701,916,692,1020,1050,969,831,726,456,824,702,1120,\n",
    "       1100,832,764,821,768,845,864,862,698,845,744,796,1040,759,781,865,845,944,984,897,822,1010,771,\n",
    "        676,649,846,812,742,801,1040,860,874,848,890,744,749,838,1050,918,986,797,923,975,815,1020,906,\n",
    "        901,1170,912,746,919,718,714,740\n",
    "       ]"
   ]
  },
  {
   "cell_type": "code",
   "execution_count": 4,
   "id": "13893f0f",
   "metadata": {},
   "outputs": [],
   "source": [
    "sig_ep  = 15099                        # process err variance\n",
    "sig_eta  = 1469.1\n",
    "N = 1000"
   ]
  },
  {
   "cell_type": "code",
   "execution_count": 6,
   "id": "fafba1fa",
   "metadata": {},
   "outputs": [],
   "source": [
    "s = np.random.normal(Nile[1],math.sqrt(sig_eta), N)"
   ]
  },
  {
   "cell_type": "code",
   "execution_count": 7,
   "id": "6366e3a7",
   "metadata": {},
   "outputs": [],
   "source": [
    "x = np.zeros((100, N))\n",
    "w = np.zeros((100, N))\n",
    "x_star = np.zeros((100, N))\n",
    "x_tilde= np.zeros((100, N))\n",
    "w_star = np.zeros((100, N))\n",
    "x[0] = s\n",
    "w[0] = 1/N"
   ]
  },
  {
   "cell_type": "code",
   "execution_count": 8,
   "id": "37e5d304",
   "metadata": {},
   "outputs": [],
   "source": [
    "ESS = np.zeros(100)\n",
    "a = np.zeros(100)"
   ]
  },
  {
   "cell_type": "code",
   "execution_count": 9,
   "id": "136afe5a",
   "metadata": {},
   "outputs": [],
   "source": [
    "import statistics"
   ]
  },
  {
   "cell_type": "code",
   "execution_count": 13,
   "id": "1a621d95",
   "metadata": {},
   "outputs": [],
   "source": [
    "for t in range(1, 100):\n",
    "    x_star[t] = x[t-1]\n",
    "    w_star_tilde = norm.pdf(Nile[t],loc=x_star[t],scale=math.sqrt(sig_ep)) * w[t-1]\n",
    "    w_star[t] = w_star_tilde / sum(w_star_tilde)\n",
    "    s = np.random.choice(N, N, p=w_star[t])\n",
    "    x_tilde[t-1] = x[t-1][s]\n",
    "    x_star[t] = x_star[t][s]\n",
    "    x[t] = np.random.normal(x_tilde[t-1], math.sqrt(sig_eta), N)\n",
    "    log_w_tilde = (norm.logpdf(Nile[t],loc=x[t],scale=math.sqrt(sig_ep)) \n",
    "                   - norm.logpdf(Nile[t],loc=x_star[t],scale=math.sqrt(sig_ep)))\n",
    "    w_tilde = np.exp(log_w_tilde)\n",
    "    w[t] = w_tilde / sum(w_tilde)\n",
    "    a[t] = sum(w[t] * x[t])\n",
    "    ESS[t] = 1 / (sum( pow (w[t], 2) ) )\n"
   ]
  },
  {
   "cell_type": "code",
   "execution_count": 11,
   "id": "dc2dbe64",
   "metadata": {
    "collapsed": true
   },
   "outputs": [
    {
     "name": "stdout",
     "output_type": "stream",
     "text": [
      "[  0.         989.81934834 853.20423548 953.83325508 980.55562046\n",
      " 980.47158962 690.98860257 887.70499874 767.93568227 977.05610353\n",
      " 886.59640224 876.93181733 971.38149083 949.36049377 977.00571682\n",
      " 955.24002499 894.19390828 773.21207501 974.48034941 899.12120086\n",
      " 957.39582612 898.08025415 967.26930824 911.28563878 938.91151927\n",
      " 970.22225847 903.85158822 977.61043906 589.82808086 832.70843643\n",
      " 926.86437647 777.14382978 969.94870567 965.1846853  877.54462741\n",
      " 965.58785298 887.15586836 858.11999677 884.79788428 969.10779784\n",
      " 950.92887628 872.3946589  613.19409554 955.576593   971.46450553\n",
      " 585.47440787 782.49036232 953.22685015 930.16587869 976.30235396\n",
      " 953.84916569 974.68176225 973.03301914 977.7617792  905.97500351\n",
      " 971.67763992 962.542531   981.77741045 783.66336456 953.23940873\n",
      " 969.04438215 974.05286382 978.10199666 942.8665796  939.82590256\n",
      " 979.42414586 956.07877104 921.78943063 908.82097473 851.79127667\n",
      " 888.26480217 964.73840228 977.64074947 968.51131795 977.06530982\n",
      " 789.58780062 982.53769148 982.30772947 979.66579103 978.00491628\n",
      " 928.87647414 960.29414248 978.04737836 798.36881947 971.36083236\n",
      " 948.2412883  937.95415014 975.59830299 960.7370774  949.23574266\n",
      " 932.41986052 979.48557711 980.68774743 779.30941699 961.61020468\n",
      " 841.18551222 977.92358847 866.13994914 922.07523398 963.35236516]\n"
     ]
    }
   ],
   "source": [
    "#print((ESS))"
   ]
  },
  {
   "cell_type": "code",
   "execution_count": 14,
   "id": "f2862290",
   "metadata": {},
   "outputs": [],
   "source": [
    "ESS[0] = 1000"
   ]
  },
  {
   "cell_type": "code",
   "execution_count": 15,
   "id": "d5c18df3",
   "metadata": {},
   "outputs": [],
   "source": [
    "pd.DataFrame(ESS).to_csv(\"local_ESS.csv\")\n",
    "pd.DataFrame(a).to_csv(\"local_a.csv\")"
   ]
  }
 ],
 "metadata": {
  "kernelspec": {
   "display_name": "Python 3 (ipykernel)",
   "language": "python",
   "name": "python3"
  },
  "language_info": {
   "codemirror_mode": {
    "name": "ipython",
    "version": 3
   },
   "file_extension": ".py",
   "mimetype": "text/x-python",
   "name": "python",
   "nbconvert_exporter": "python",
   "pygments_lexer": "ipython3",
   "version": "3.7.7"
  }
 },
 "nbformat": 4,
 "nbformat_minor": 5
}
